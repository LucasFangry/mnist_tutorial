{
 "cells": [
  {
   "cell_type": "markdown",
   "metadata": {},
   "source": [
    "# Pytorch Tutorial"
   ]
  },
  {
   "cell_type": "markdown",
   "metadata": {},
   "source": [
    "Pytorch is a popular deep learning framework and it's easy to get started."
   ]
  },
  {
   "cell_type": "code",
   "execution_count": 16,
   "metadata": {},
   "outputs": [],
   "source": [
    "import torch\n",
    "import torch.nn as nn\n",
    "import torch.utils.data as data\n",
    "import torchvision\n",
    "import torchvision.transforms as transforms\n",
    "from tqdm import tqdm\n",
    "import torch.optim as optim\n",
    "import time\n",
    "\n",
    "BATCH_SIZE = 128\n",
    "NUM_EPOCHS = 20"
   ]
  },
  {
   "cell_type": "markdown",
   "metadata": {},
   "source": [
    "First, we read the mnist data, preprocess them and encapsulate them into dataloader form."
   ]
  },
  {
   "cell_type": "code",
   "execution_count": 2,
   "metadata": {},
   "outputs": [
    {
     "name": "stdout",
     "output_type": "stream",
     "text": [
      "Downloading http://yann.lecun.com/exdb/mnist/train-images-idx3-ubyte.gz\n",
      "Downloading http://yann.lecun.com/exdb/mnist/train-labels-idx1-ubyte.gz\n",
      "Downloading http://yann.lecun.com/exdb/mnist/t10k-images-idx3-ubyte.gz\n",
      "Downloading http://yann.lecun.com/exdb/mnist/t10k-labels-idx1-ubyte.gz\n",
      "Processing...\n",
      "Done!\n"
     ]
    }
   ],
   "source": [
    "# preprocessing\n",
    "normalize = transforms.Normalize(mean=[.5], std=[.5])\n",
    "transform = transforms.Compose([transforms.ToTensor(), normalize])\n",
    "\n",
    "# download and load the data\n",
    "train_dataset = torchvision.datasets.MNIST(root='./mnist/', train=True, transform=transform, download=True)\n",
    "test_dataset = torchvision.datasets.MNIST(root='./mnist/', train=False, transform=transform, download=False)\n",
    "\n",
    "# encapsulate them into dataloader form\n",
    "train_loader = data.DataLoader(train_dataset, batch_size=BATCH_SIZE, shuffle=True, drop_last=True)\n",
    "test_loader = data.DataLoader(test_dataset, batch_size=BATCH_SIZE, shuffle=False, drop_last=True)"
   ]
  },
  {
   "cell_type": "markdown",
   "metadata": {},
   "source": [
    "Then, we define the model, object function and optimizer that we use to classify."
   ]
  },
  {
   "cell_type": "code",
   "execution_count": null,
   "metadata": {},
   "outputs": [],
   "source": [
    "class SimpleNet(nn.Module):\n",
    "    def __init__(self):\n",
    "        super(SimpleNet, self).__init__()\n",
    "        self.layer1 = nn.Sequential(\n",
    "\n",
    "            # 1-1 conv layer\n",
    "            nn.Conv2d(1, 32, kernel_size=3, padding=1),\n",
    "            nn.BatchNorm2d(32),\n",
    "            nn.LeakyReLU(),\n",
    "\n",
    "            # 1-2 conv layer\n",
    "            nn.Conv2d(32, 64, kernel_size=3, padding=1),\n",
    "            nn.BatchNorm2d(64),\n",
    "            nn.LeakyReLU(),\n",
    "\n",
    "            # 1 Pooling layer\n",
    "            nn.AvgPool2d(kernel_size=2, stride=2))\n",
    "\n",
    "        self.layer2 = nn.Sequential(\n",
    "\n",
    "            # 1-1 conv layer\n",
    "            nn.Conv2d(64, 64, kernel_size=3, padding=1),\n",
    "            nn.BatchNorm2d(64),\n",
    "            nn.LeakyReLU(),\n",
    "\n",
    "            # 1-2 conv layer\n",
    "            nn.Conv2d(64, 64, kernel_size=3, padding=1),\n",
    "            \n",
    "            nn.BatchNorm2d(64),\n",
    "            nn.LeakyReLU(),\n",
    "\n",
    "            # 1 Pooling layer\n",
    "            nn.AvgPool2d(kernel_size=2, stride=2))\n",
    "\n",
    "        self.layer3 = nn.Sequential(\n",
    "            \n",
    "            nn.Linear(3136, 128),\n",
    "            nn.BatchNorm1d(128),\n",
    "            nn.LeakyReLU(),\n",
    "\n",
    "            nn.Linear(128, 64),\n",
    "            nn.BatchNorm1d(64),\n",
    "            nn.LeakyReLU(),\n",
    "\n",
    "            nn.Linear(64, 10))\n",
    "\n",
    "    def forward(self, x):\n",
    "        out = self.layer1(x)\n",
    "        out = self.layer2(out)\n",
    "        features = out.view(out.shape[0], -1)\n",
    "        out = self.layer3(features)\n",
    "        return out\n",
    "\n",
    "if torch.cuda.is_available():\n",
    "    model = SimpleNet().cuda()\n",
    "\n",
    "criterion = nn.CrossEntropyLoss().cuda()\n",
    "optimizer = optim.Adam(model.parameters(), lr=0.0001)"
   ]
  },
  {
   "cell_type": "markdown",
   "metadata": {},
   "source": [
    "Next, we can start to train and evaluate!"
   ]
  },
  {
   "cell_type": "code",
   "execution_count": 34,
   "metadata": {
    "scrolled": true
   },
   "outputs": [
    {
     "name": "stdout",
     "output_type": "stream",
     "text": [
      "Train Epoch: 0\tAcc:[59849/59904]99.908186 Loss: 1.146383\n",
      "Train Epoch: 1\tAcc:[59865/59904]99.934896 Loss: 0.835427\n",
      "Train Epoch: 2\tAcc:[59892/59904]99.979968 Loss: 0.290450\n",
      "Train Epoch: 3\tAcc:[59903/59904]99.998331 Loss: 0.071935\n",
      "Train Epoch: 4\tAcc:[59850/59904]99.909856 Loss: 1.666681\n",
      "Train Epoch: 5\tAcc:[59855/59904]99.918202 Loss: 1.244281\n",
      "Train Epoch: 6\tAcc:[59870/59904]99.943243 Loss: 0.815544\n",
      "Train Epoch: 7\tAcc:[59894/59904]99.983307 Loss: 0.248720\n",
      "Train Epoch: 8\tAcc:[59872/59904]99.946581 Loss: 0.747108\n",
      "Train Epoch: 9\tAcc:[59882/59904]99.963275 Loss: 0.659531\n",
      "Train Epoch: 10\tAcc:[59904/59904]100.000000 Loss: 0.056610\n",
      "Train Epoch: 11\tAcc:[59902/59904]99.996661 Loss: 0.073902\n",
      "Train Epoch: 12\tAcc:[59838/59904]99.889824 Loss: 1.824219\n",
      "Train Epoch: 13\tAcc:[59884/59904]99.966613 Loss: 0.643098\n",
      "Train Epoch: 14\tAcc:[59891/59904]99.978299 Loss: 0.318978\n",
      "Train Epoch: 15\tAcc:[59875/59904]99.951589 Loss: 0.542340\n",
      "Train Epoch: 16\tAcc:[59846/59904]99.903178 Loss: 1.677997\n",
      "Train Epoch: 17\tAcc:[59892/59904]99.979968 Loss: 0.337010\n",
      "Train Epoch: 18\tAcc:[59884/59904]99.966613 Loss: 0.593992\n",
      "Train Epoch: 19\tAcc:[59890/59904]99.976629 Loss: 0.324697\n",
      "Test Epoch: 19\tAcc:[9931/9984]99.469151 Loss: 1.838360\n"
     ]
    }
   ],
   "source": [
    "# train and evaluate\n",
    "for epoch in range(NUM_EPOCHS):\n",
    "    correct = 0\n",
    "    total = 0\n",
    "    total_loss = 0\n",
    "    for batch_idx, (data, target) in enumerate(train_loader):\n",
    "        if torch.cuda.is_available():\n",
    "            data, target = data.cuda(), target.cuda()\n",
    "        optimizer.zero_grad()\n",
    "        output = model(data)\n",
    "\n",
    "        pred = output.data.max(1, keepdim=True)[1]\n",
    "        correct += pred.eq(target.data.view_as(pred)).cpu().sum()\n",
    "        total += target.shape[0]\n",
    "\n",
    "        loss = criterion(output, target)\n",
    "        total_loss += loss.item()\n",
    "        loss.backward()\n",
    "        optimizer.step()\n",
    "    log = ('Train Epoch: {}\\tAcc:[{}/{}]{:.6f} Loss: {:.6f}'.format(\n",
    "                epoch, int(correct), int(total), float(correct)/float(total)*100, total_loss))\n",
    "    print(log)\n",
    "    \n",
    "\n",
    "correct = 0\n",
    "total = 0\n",
    "total_loss = 0\n",
    "for batch_idx, (data, target) in enumerate(test_loader):\n",
    "    if torch.cuda.is_available():\n",
    "        data, target = data.cuda(), target.cuda()\n",
    "    output = model(data)\n",
    "    pred = output.data.max(1, keepdim=True)[1]\n",
    "    correct += pred.eq(target.data.view_as(pred)).cpu().sum()\n",
    "    total += target.shape[0]\n",
    "\n",
    "    loss = criterion(output, target)\n",
    "    total_loss += loss.item()\n",
    "log = ('Test Epoch: {}\\tAcc:[{}/{}]{:.6f} Loss: {:.6f}'.format(\n",
    "            epoch, int(correct), int(total), float(correct)/float(total)*100, total_loss))\n",
    "print(log)\n",
    "    \n",
    "    \n",
    "    \n",
    "    \n"
   ]
  },
  {
   "cell_type": "markdown",
   "metadata": {},
   "source": [
    "#### Q5:\n",
    "Please print the training and testing accuracy."
   ]
  }
 ],
 "metadata": {
  "kernelspec": {
   "display_name": "Python 3",
   "language": "python",
   "name": "python3"
  },
  "language_info": {
   "codemirror_mode": {
    "name": "ipython",
    "version": 3
   },
   "file_extension": ".py",
   "mimetype": "text/x-python",
   "name": "python",
   "nbconvert_exporter": "python",
   "pygments_lexer": "ipython3",
   "version": "3.6.5"
  }
 },
 "nbformat": 4,
 "nbformat_minor": 2
}
